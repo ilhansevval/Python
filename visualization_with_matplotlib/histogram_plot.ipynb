{
  "nbformat": 4,
  "nbformat_minor": 0,
  "metadata": {
    "colab": {
      "name": "histogram_plot.ipynb",
      "provenance": [],
      "collapsed_sections": []
    },
    "kernelspec": {
      "name": "python3",
      "display_name": "Python 3"
    },
    "language_info": {
      "name": "python"
    }
  },
  "cells": [
    {
      "cell_type": "markdown",
      "source": [
        "histogram istatiksel anlamda bilgi edinebilmek için önemlidir."
      ],
      "metadata": {
        "id": "Q4APMoHmohoR"
      }
    },
    {
      "cell_type": "code",
      "source": [
        "import pandas as pd\n",
        "\n",
        "from google.colab import drive\n",
        "drive.mount('/content/drive')"
      ],
      "metadata": {
        "colab": {
          "base_uri": "https://localhost:8080/"
        },
        "id": "0iWWlf89ovxR",
        "outputId": "b1c93169-7cc1-4ef4-a756-b4371b418a2d"
      },
      "execution_count": null,
      "outputs": [
        {
          "output_type": "stream",
          "name": "stdout",
          "text": [
            "Mounted at /content/drive\n"
          ]
        }
      ]
    },
    {
      "cell_type": "code",
      "source": [
        "df = pd.read_csv(\"/content/drive/MyDrive/data/iris.csv\")"
      ],
      "metadata": {
        "id": "7N3tK9YZoyp_"
      },
      "execution_count": null,
      "outputs": []
    },
    {
      "cell_type": "code",
      "source": [
        "import matplotlib.pyplot as plt #matplotlib kütüphanesi import edilir."
      ],
      "metadata": {
        "id": "zVftbz-ho9m1"
      },
      "execution_count": null,
      "outputs": []
    },
    {
      "cell_type": "code",
      "source": [
        "setosa = df[ df.Species == \"Iris-setosa\"] \n",
        "#setosa türünün ayrıldığı bir dataframe oluşturuldu.\n",
        "\n",
        "versicolor = df[ df.Species == \"Iris-versicolor\"] \n",
        "#versicolor türünün ayrıldığı bir dataframe oluşturuldu.\n",
        "\n",
        "virginica = df[ df.Species == \"Iris-virginica\"] \n",
        "#virginica türünün ayrıldığı bir dataframe oluşturuldu."
      ],
      "metadata": {
        "id": "0TJHivdcpB_8"
      },
      "execution_count": null,
      "outputs": []
    },
    {
      "cell_type": "markdown",
      "source": [
        "setosa türünün PetalLength'i 1.4 olan sample'ların sayısı histogram ile öğrenilebilir."
      ],
      "metadata": {
        "id": "ZxI0-ZMhpQMF"
      }
    },
    {
      "cell_type": "code",
      "source": [
        "plt.hist(setosa.PetalLengthCm, bins=10) #histogramdaki kutu sayısı default olarak 10 verilmiştir.\n",
        "plt.xlabel(\"PetalLengthCm_values\")\n",
        "plt.ylabel(\"frekans/sıklık\")\n",
        "plt.title(\"Histogram\")\n",
        "plt.show()"
      ],
      "metadata": {
        "colab": {
          "base_uri": "https://localhost:8080/",
          "height": 265
        },
        "id": "Hra8JgxPpDj6",
        "outputId": "0af40bcc-27e5-448f-c426-f52608732044"
      },
      "execution_count": null,
      "outputs": [
        {
          "output_type": "display_data",
          "data": {
            "text/plain": [
              "<Figure size 432x288 with 1 Axes>"
            ],
            "image/png": "[encoded data removed]"
          },
          "metadata": {
            "needs_background": "light"
          }
        }
      ]
    }
  ]
}