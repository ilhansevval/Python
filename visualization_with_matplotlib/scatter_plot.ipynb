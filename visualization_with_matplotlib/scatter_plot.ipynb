{
  "nbformat": 4,
  "nbformat_minor": 0,
  "metadata": {
    "colab": {
      "name": "scatter_plot.ipynb",
      "provenance": [],
      "collapsed_sections": []
    },
    "kernelspec": {
      "name": "python3",
      "display_name": "Python 3"
    },
    "language_info": {
      "name": "python"
    }
  },
  "cells": [
    {
      "cell_type": "code",
      "execution_count": 1,
      "metadata": {
        "id": "6F8glQJvfVCC",
        "colab": {
          "base_uri": "https://localhost:8080/"
        },
        "outputId": "823f7458-f7f6-4be4-d4a2-72617178cb86"
      },
      "outputs": [
        {
          "output_type": "stream",
          "name": "stdout",
          "text": [
            "Mounted at /content/drive\n"
          ]
        }
      ],
      "source": [
        "import pandas as pd\n",
        "\n",
        "from google.colab import drive\n",
        "drive.mount('/content/drive')"
      ]
    },
    {
      "cell_type": "code",
      "source": [
        "df = pd.read_csv(\"/content/drive/MyDrive/data/iris.csv\")"
      ],
      "metadata": {
        "id": "Y52j83tFleRj"
      },
      "execution_count": 2,
      "outputs": []
    },
    {
      "cell_type": "code",
      "source": [
        "import matplotlib.pyplot as plt #matplotlib kütüphanesi import edilir."
      ],
      "metadata": {
        "id": "NonOOUASlkJn"
      },
      "execution_count": 3,
      "outputs": []
    },
    {
      "cell_type": "code",
      "source": [
        "setosa = df[ df.Species == \"Iris-setosa\"] \n",
        "#setosa türünün ayrıldığı bir dataframe oluşturuldu.\n",
        "\n",
        "versicolor = df[ df.Species == \"Iris-versicolor\"] \n",
        "#versicolor türünün ayrıldığı bir dataframe oluşturuldu.\n",
        "\n",
        "virginica = df[ df.Species == \"Iris-virginica\"] \n",
        "#virginica türünün ayrıldığı bir dataframe oluşturuldu."
      ],
      "metadata": {
        "id": "FbTsoEXrlq0K"
      },
      "execution_count": 4,
      "outputs": []
    },
    {
      "cell_type": "markdown",
      "source": [
        "scatter plot iki feature karşılaştırmak için kullanılır."
      ],
      "metadata": {
        "id": "iBX6f6gcl3YT"
      }
    },
    {
      "cell_type": "code",
      "source": [
        "plt.scatter(setosa.PetalLengthCm, setosa.PetalWidthCm, color=\"red\", label=\"setosa\")\n",
        "plt.xlabel(\"PetalLengthCm\") \n",
        "plt.ylabel(\"PetalWidthCm\")\n",
        "plt.legend()\n",
        "plt.title(\"Scatter Plot\")\n",
        "plt.show()"
      ],
      "metadata": {
        "colab": {
          "base_uri": "https://localhost:8080/",
          "height": 295
        },
        "id": "SN9u_1D_l0Dk",
        "outputId": "94226bb2-993f-4033-c766-b1282a43eab0"
      },
      "execution_count": 7,
      "outputs": [
        {
          "output_type": "display_data",
          "data": {
            "text/plain": [
              "<Figure size 432x288 with 1 Axes>"
            ],
            "image/png": "[encoded data removed]"
          },
          "metadata": {
            "needs_background": "light"
          }
        }
      ]
    },
    {
      "cell_type": "markdown",
      "source": [
        "setosa, versicolor, virginica PetalLength'e göre ayrı ayrı plot edilmiştir."
      ],
      "metadata": {
        "id": "4AUqSlBIn9yX"
      }
    },
    {
      "cell_type": "code",
      "source": [
        "plt.scatter(setosa.PetalLengthCm, setosa.PetalWidthCm, color=\"red\", label=\"setosa\")\n",
        "plt.scatter(versicolor.PetalLengthCm, versicolor.PetalWidthCm, color=\"blue\", label=\"versicolor\")\n",
        "plt.scatter(virginica.PetalLengthCm, virginica.PetalWidthCm, color=\"green\", label=\"virginica\")\n",
        "\n",
        "plt.xlabel(\"PetalLengthCm\")\n",
        "plt.ylabel(\"PetalWidthCm\")\n",
        "plt.legend()\n",
        "plt.title(\"Scatter Plot\")\n",
        "plt.show()"
      ],
      "metadata": {
        "colab": {
          "base_uri": "https://localhost:8080/",
          "height": 295
        },
        "id": "n0cp8He7me0_",
        "outputId": "f4743994-e619-4c82-f24f-b688ac7c5005"
      },
      "execution_count": 8,
      "outputs": [
        {
          "output_type": "display_data",
          "data": {
            "text/plain": [
              "<Figure size 432x288 with 1 Axes>"
            ],
            "image/png": "[encoded data removed]"
          },
          "metadata": {
            "needs_background": "light"
          }
        }
      ]
    }
  ]
}